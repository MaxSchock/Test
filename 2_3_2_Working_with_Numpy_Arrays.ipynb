{
  "cells": [
    {
      "cell_type": "markdown",
      "metadata": {
        "id": "view-in-github",
        "colab_type": "text"
      },
      "source": [
        "<a href=\"https://colab.research.google.com/github/MaxSchock/Test/blob/main/2_3_2_Working_with_Numpy_Arrays.ipynb\" target=\"_parent\"><img src=\"https://colab.research.google.com/assets/colab-badge.svg\" alt=\"Open In Colab\"/></a>"
      ]
    },
    {
      "cell_type": "markdown",
      "metadata": {
        "id": "KCpFccSBMMip"
      },
      "source": [
        "#  Introducción a los Vectores y Matrices\n",
        "\n",
        "$$\n",
        "\\begin{equation}\n",
        "\\begin{pmatrix}\n",
        "x_{11} & . & x_{1m}\\\\\n",
        ". & . & .\\\\\n",
        "x_{n1} & . & x_{nm}\n",
        "\\end{pmatrix}\n",
        "\\end{equation}\n",
        "$$"
      ]
    },
    {
      "cell_type": "code",
      "execution_count": null,
      "metadata": {
        "id": "_saGv3OjMMit"
      },
      "outputs": [],
      "source": [
        "import numpy as np"
      ]
    },
    {
      "cell_type": "code",
      "execution_count": null,
      "metadata": {
        "colab": {
          "base_uri": "https://localhost:8080/"
        },
        "id": "6wzb-WBnMMiv",
        "outputId": "6805719a-e3a1-4ab3-a846-9c21f6074af5"
      },
      "outputs": [
        {
          "output_type": "stream",
          "name": "stdout",
          "text": [
            "1.21.6\n"
          ]
        }
      ],
      "source": [
        "# Para comprobar la versión\n",
        "print(np.__version__)"
      ]
    },
    {
      "cell_type": "markdown",
      "metadata": {
        "id": "6666lLcpMMiv"
      },
      "source": [
        "***\n",
        "$$\n",
        "\\begin{equation}\n",
        "X=\\begin{pmatrix}\n",
        "1 & 0 & 4\\\\\n",
        "3 & 3 & 1\n",
        "\\end{pmatrix},\n",
        "Y=\\begin{pmatrix}\n",
        "2 & 5\\\\\n",
        "1 & 1\\\\\n",
        "3 & 2\n",
        "\\end{pmatrix}\n",
        "\\end{equation}\n",
        "$$"
      ]
    },
    {
      "cell_type": "code",
      "execution_count": null,
      "metadata": {
        "colab": {
          "base_uri": "https://localhost:8080/"
        },
        "id": "5aQGe8ycMMiw",
        "outputId": "843914c7-726d-472f-86b4-cf100883e4e6"
      },
      "outputs": [
        {
          "output_type": "execute_result",
          "data": {
            "text/plain": [
              "array([[14, 13],\n",
              "       [12, 20]])"
            ]
          },
          "metadata": {},
          "execution_count": 3
        }
      ],
      "source": [
        "x = np.array([[1,0,4],[3,3,1]])\n",
        "y = np.array([[2,5],[1,1],[3,2]])\n",
        "x.dot(y)"
      ]
    },
    {
      "cell_type": "code",
      "execution_count": null,
      "metadata": {
        "colab": {
          "base_uri": "https://localhost:8080/"
        },
        "id": "IMcDpZ8sMMiw",
        "outputId": "c02a85ef-9632-4f27-a805-a676d32193ff"
      },
      "outputs": [
        {
          "output_type": "execute_result",
          "data": {
            "text/plain": [
              "array([[0., 1., 2.],\n",
              "       [3., 4., 5.],\n",
              "       [6., 7., 8.]])"
            ]
          },
          "metadata": {},
          "execution_count": 6
        }
      ],
      "source": [
        "x1 = np.arange(9.0).reshape((3, 3))\n",
        "x1"
      ]
    },
    {
      "cell_type": "code",
      "execution_count": null,
      "metadata": {
        "colab": {
          "base_uri": "https://localhost:8080/"
        },
        "id": "zUf3O5ogMMix",
        "outputId": "d07a4b21-e5bd-4c31-9e7c-ffa03dff3808"
      },
      "outputs": [
        {
          "output_type": "execute_result",
          "data": {
            "text/plain": [
              "array([0., 1., 2.])"
            ]
          },
          "metadata": {},
          "execution_count": 8
        }
      ],
      "source": [
        "x2 = np.arange(3.0)\n",
        "x2"
      ]
    },
    {
      "cell_type": "code",
      "execution_count": null,
      "metadata": {
        "colab": {
          "base_uri": "https://localhost:8080/"
        },
        "id": "aqHc7j-EMMiy",
        "outputId": "95afa4ff-a826-48ee-ff60-047fda2a9e89"
      },
      "outputs": [
        {
          "output_type": "execute_result",
          "data": {
            "text/plain": [
              "array([[ 0.,  1.,  4.],\n",
              "       [ 0.,  4., 10.],\n",
              "       [ 0.,  7., 16.]])"
            ]
          },
          "metadata": {},
          "execution_count": 9
        }
      ],
      "source": [
        "np.multiply(x1, x2)"
      ]
    },
    {
      "cell_type": "code",
      "execution_count": null,
      "metadata": {
        "colab": {
          "base_uri": "https://localhost:8080/"
        },
        "id": "fo0ysaRYMMiz",
        "outputId": "458c8a2f-ef6d-499d-eb2f-b48eac297140"
      },
      "outputs": [
        {
          "output_type": "execute_result",
          "data": {
            "text/plain": [
              "array([[ 0.,  1.,  4.],\n",
              "       [ 0.,  4., 10.],\n",
              "       [ 0.,  7., 16.]])"
            ]
          },
          "metadata": {},
          "execution_count": 10
        }
      ],
      "source": [
        "x1 * x2"
      ]
    },
    {
      "cell_type": "code",
      "execution_count": null,
      "metadata": {
        "colab": {
          "base_uri": "https://localhost:8080/",
          "height": 171
        },
        "id": "s1d1DacfMMiz",
        "outputId": "a18609eb-cc6e-4f45-91a1-6bab9faccb71"
      },
      "outputs": [
        {
          "output_type": "error",
          "ename": "ValueError",
          "evalue": "ignored",
          "traceback": [
            "\u001b[0;31m---------------------------------------------------------------------------\u001b[0m",
            "\u001b[0;31mValueError\u001b[0m                                Traceback (most recent call last)",
            "\u001b[0;32m<ipython-input-11-0625931d9226>\u001b[0m in \u001b[0;36m<module>\u001b[0;34m\u001b[0m\n\u001b[0;32m----> 1\u001b[0;31m \u001b[0mnp\u001b[0m\u001b[0;34m.\u001b[0m\u001b[0mmultiply\u001b[0m\u001b[0;34m(\u001b[0m\u001b[0my\u001b[0m\u001b[0;34m,\u001b[0m \u001b[0mx\u001b[0m\u001b[0;34m)\u001b[0m\u001b[0;34m\u001b[0m\u001b[0;34m\u001b[0m\u001b[0m\n\u001b[0m",
            "\u001b[0;31mValueError\u001b[0m: operands could not be broadcast together with shapes (3,2) (2,3) "
          ]
        }
      ],
      "source": [
        "np.multiply(y, x)"
      ]
    },
    {
      "cell_type": "markdown",
      "metadata": {
        "id": "Jn5toBZaMMi0"
      },
      "source": [
        "# Basics of NumPy Array Object"
      ]
    },
    {
      "cell_type": "code",
      "execution_count": null,
      "metadata": {
        "id": "XDb8XZ2XMMi0"
      },
      "outputs": [],
      "source": [
        "import numpy as np\n",
        "x = np.array([[1,2,3],[4,5,6]])\n",
        "x"
      ]
    },
    {
      "cell_type": "code",
      "execution_count": null,
      "metadata": {
        "scrolled": true,
        "id": "auMmLT1MMMi0"
      },
      "outputs": [],
      "source": [
        "print(\"We just create a \", type(x))"
      ]
    },
    {
      "cell_type": "code",
      "execution_count": null,
      "metadata": {
        "id": "IuQTnMOvMMi1"
      },
      "outputs": [],
      "source": [
        "print(\"Our template has shape as\" ,x.shape)"
      ]
    },
    {
      "cell_type": "code",
      "execution_count": null,
      "metadata": {
        "id": "gFspeT8RMMi1"
      },
      "outputs": [],
      "source": [
        "print(\"Total size is\",x.size)"
      ]
    },
    {
      "cell_type": "code",
      "execution_count": null,
      "metadata": {
        "id": "irSpXAXsMMi1"
      },
      "outputs": [],
      "source": [
        "print(\"The dimension of our array is \" ,x.ndim)"
      ]
    },
    {
      "cell_type": "code",
      "execution_count": null,
      "metadata": {
        "id": "4ZqISiIyMMi2"
      },
      "outputs": [],
      "source": [
        "print(\"Data type of elements are\",x.dtype)"
      ]
    },
    {
      "cell_type": "code",
      "execution_count": null,
      "metadata": {
        "id": "j_NTLIpxMMi2"
      },
      "outputs": [],
      "source": [
        "print(\"It consumes\",x.nbytes,\"bytes\")"
      ]
    },
    {
      "cell_type": "code",
      "execution_count": null,
      "metadata": {
        "id": "IoeBD3sOMMi2"
      },
      "outputs": [],
      "source": [
        "x = np.array([[1,2,3],[4,5,6]], dtype = np.float)\n",
        "print(x)\n",
        "print(x.nbytes)"
      ]
    },
    {
      "cell_type": "code",
      "execution_count": null,
      "metadata": {
        "id": "Wxoszma6MMi2"
      },
      "outputs": [],
      "source": [
        "x = np.array([[1,2,3],[4,5,6]], dtype = np.complex)\n",
        "print(x)\n",
        "print(x.nbytes)"
      ]
    },
    {
      "cell_type": "code",
      "execution_count": null,
      "metadata": {
        "id": "J73jAHD_MMi3"
      },
      "outputs": [],
      "source": [
        "x = np.array([[1,2,3],[4,-5,6]], dtype = np.uint32)\n",
        "print(x)\n",
        "print(x.nbytes)"
      ]
    },
    {
      "cell_type": "code",
      "execution_count": null,
      "metadata": {
        "scrolled": true,
        "id": "VPolUvxRMMi3"
      },
      "outputs": [],
      "source": [
        "x = np.array([[1,2,3],[4,5,6]], dtype = np.int64)\n",
        "print(\"int64 comsues\",x.nbytes, \"bytes\")\n",
        "x = np.array([[1,2,3],[4,5,6]], dtype = np.int32)\n",
        "print(\"int32 comsues\",x.nbytes, \"bytes\")"
      ]
    },
    {
      "cell_type": "code",
      "execution_count": null,
      "metadata": {
        "id": "M8x-xSe3MMi3"
      },
      "outputs": [],
      "source": [
        "x_copy = np.array(x, dtype = np.float)\n",
        "x_copy "
      ]
    },
    {
      "cell_type": "code",
      "execution_count": null,
      "metadata": {
        "id": "rx377VHxMMi4"
      },
      "outputs": [],
      "source": [
        "x_copy_int = x_copy.astype(np.int)\n",
        "x_copy_int"
      ]
    },
    {
      "cell_type": "code",
      "execution_count": null,
      "metadata": {
        "id": "KBY599dFMMi4"
      },
      "outputs": [],
      "source": [
        "x_copy"
      ]
    },
    {
      "cell_type": "code",
      "execution_count": null,
      "metadata": {
        "id": "o5x1xnlqMMi4"
      },
      "outputs": [],
      "source": [
        "Data_Cancer = np.random.rand(100000,100)\n",
        "print(type(Data_Cancer))\n",
        "print(Data_Cancer.dtype)\n",
        "print(Data_Cancer.nbytes)\n",
        "Data_Cancer_New = np.array(Data_Cancer, dtype = np.float32)\n",
        "print(Data_Cancer_New.nbytes)"
      ]
    },
    {
      "cell_type": "code",
      "execution_count": null,
      "metadata": {
        "id": "qi8Y3dgYMMi4"
      },
      "outputs": [],
      "source": [
        "Data_Cancer"
      ]
    },
    {
      "cell_type": "markdown",
      "metadata": {
        "id": "4vka9WocMMi4"
      },
      "source": [
        "# NumPy Array Operations"
      ]
    },
    {
      "cell_type": "code",
      "execution_count": null,
      "metadata": {
        "id": "lxoiWahgMMi5"
      },
      "outputs": [],
      "source": [
        "import numpy as np"
      ]
    },
    {
      "cell_type": "code",
      "execution_count": null,
      "metadata": {
        "id": "bcKVSFE7MMi5"
      },
      "outputs": [],
      "source": [
        "my_list = [2, 14, 6, 8]\n",
        "my_array = np.asarray(my_list)\n",
        "type(my_array)"
      ]
    },
    {
      "cell_type": "code",
      "execution_count": null,
      "metadata": {
        "id": "3fG-yjiXMMi5"
      },
      "outputs": [],
      "source": [
        "my_array +2"
      ]
    },
    {
      "cell_type": "code",
      "execution_count": null,
      "metadata": {
        "id": "qWg3iWdYMMi5"
      },
      "outputs": [],
      "source": [
        "my_array -1"
      ]
    },
    {
      "cell_type": "code",
      "execution_count": null,
      "metadata": {
        "id": "3bP2WFKaMMi5"
      },
      "outputs": [],
      "source": [
        "my_array *2"
      ]
    },
    {
      "cell_type": "code",
      "execution_count": null,
      "metadata": {
        "id": "M4dzSzswMMi5"
      },
      "outputs": [],
      "source": [
        "my_array /2"
      ]
    },
    {
      "cell_type": "code",
      "execution_count": null,
      "metadata": {
        "id": "BjV_CEIvMMi6"
      },
      "outputs": [],
      "source": [
        "second_array = np.zeros(4) + 3\n",
        "second_array "
      ]
    },
    {
      "cell_type": "code",
      "execution_count": null,
      "metadata": {
        "id": "_SBhL1O6MMi6"
      },
      "outputs": [],
      "source": [
        "my_array - second_array "
      ]
    },
    {
      "cell_type": "code",
      "execution_count": null,
      "metadata": {
        "id": "racSUBN6MMi6"
      },
      "outputs": [],
      "source": [
        "second_array / my_array "
      ]
    },
    {
      "cell_type": "code",
      "execution_count": null,
      "metadata": {
        "id": "OWttqde-MMi6"
      },
      "outputs": [],
      "source": [
        "second_array = np.ones(4)+3\n",
        "second_array"
      ]
    },
    {
      "cell_type": "code",
      "execution_count": null,
      "metadata": {
        "id": "tYQspukgMMi6"
      },
      "outputs": [],
      "source": [
        "my_array - second_array "
      ]
    },
    {
      "cell_type": "code",
      "execution_count": null,
      "metadata": {
        "id": "tDQxfAalMMi6"
      },
      "outputs": [],
      "source": [
        "second_array / my_array "
      ]
    },
    {
      "cell_type": "code",
      "execution_count": null,
      "metadata": {
        "id": "uoAfC4kXMMi7"
      },
      "outputs": [],
      "source": [
        "second_array = np.identity(4)\n",
        "second_array"
      ]
    },
    {
      "cell_type": "code",
      "execution_count": null,
      "metadata": {
        "id": "cjnD3wlfMMi7"
      },
      "outputs": [],
      "source": [
        "second_array = np.identity(4)+3\n",
        "second_array"
      ]
    },
    {
      "cell_type": "code",
      "execution_count": null,
      "metadata": {
        "id": "0r6asggYMMi7"
      },
      "outputs": [],
      "source": [
        "my_array - second_array "
      ]
    },
    {
      "cell_type": "code",
      "execution_count": null,
      "metadata": {
        "id": "oubdQzVnMMi7"
      },
      "outputs": [],
      "source": [
        "second_array / my_array "
      ]
    },
    {
      "cell_type": "code",
      "execution_count": null,
      "metadata": {
        "id": "IvpmfYOzMMi7"
      },
      "outputs": [],
      "source": [
        "x = np.arange(3,7,0.5)\n",
        "x"
      ]
    },
    {
      "cell_type": "code",
      "execution_count": null,
      "metadata": {
        "id": "NeICBmaOMMi8"
      },
      "outputs": [],
      "source": [
        "x = np.linspace(1.2, 40.5, num=20)\n",
        "x"
      ]
    },
    {
      "cell_type": "code",
      "execution_count": null,
      "metadata": {
        "id": "SeNYS3VqMMi8"
      },
      "outputs": [],
      "source": [
        "np.geomspace(1, 625, num=5)"
      ]
    },
    {
      "cell_type": "code",
      "execution_count": null,
      "metadata": {
        "id": "TQRARfXBMMi8"
      },
      "outputs": [],
      "source": [
        "np.logspace(3, 4, num=5)"
      ]
    },
    {
      "cell_type": "code",
      "execution_count": null,
      "metadata": {
        "id": "femUKPv3MMi8"
      },
      "outputs": [],
      "source": [
        "np.logspace(np.log10(3) , np.log10(4) , num=5)"
      ]
    },
    {
      "cell_type": "code",
      "execution_count": null,
      "metadata": {
        "id": "zOAVx20gMMi8"
      },
      "outputs": [],
      "source": [
        "x = np.array([1,2,3,4])\n",
        "y = np.array([1,3,4,4])\n",
        "x == y "
      ]
    },
    {
      "cell_type": "code",
      "execution_count": null,
      "metadata": {
        "id": "7KSYbFHGMMi8"
      },
      "outputs": [],
      "source": [
        "x = np.array([1,2,3,4])\n",
        "y = np.array([1,3,4,4])\n",
        "np.array_equal(x,y)"
      ]
    },
    {
      "cell_type": "code",
      "execution_count": null,
      "metadata": {
        "id": "pEmOlgNgMMi9"
      },
      "outputs": [],
      "source": [
        "x = np.array([1,2,3,4])\n",
        "y = np.array([1,3,4,4])\n",
        "x < y "
      ]
    },
    {
      "cell_type": "code",
      "execution_count": null,
      "metadata": {
        "id": "0XHtfKuqMMi9"
      },
      "outputs": [],
      "source": [
        "x = np.array([0, 1, 0, 0], dtype=bool)\n",
        "y = np.array([1, 1, 0, 1], dtype=bool)\n",
        "np.logical_or(x,y)"
      ]
    },
    {
      "cell_type": "code",
      "execution_count": null,
      "metadata": {
        "id": "ISClDJ59MMi9"
      },
      "outputs": [],
      "source": [
        "np.logical_and(x,y)"
      ]
    },
    {
      "cell_type": "code",
      "execution_count": null,
      "metadata": {
        "id": "jsjhJRTKMMi9"
      },
      "outputs": [],
      "source": [
        "x = np.array([12,16,57,11])\n",
        "np.logical_or(x < 13, x > 50)"
      ]
    },
    {
      "cell_type": "markdown",
      "metadata": {
        "id": "jJvsmB1vMMi9"
      },
      "source": [
        "---\n"
      ]
    },
    {
      "cell_type": "markdown",
      "metadata": {
        "id": "N1CfrQBuMMi9"
      },
      "source": [
        "$$\n",
        "e = 2,718281...\n",
        "$$"
      ]
    },
    {
      "cell_type": "code",
      "execution_count": null,
      "metadata": {
        "id": "-yhSmOM3MMi-"
      },
      "outputs": [],
      "source": [
        "x = np.array([1, 2, 3,4 ])\n",
        "np.exp(x)"
      ]
    },
    {
      "cell_type": "code",
      "execution_count": null,
      "metadata": {
        "id": "YX0HMepGMMi-"
      },
      "outputs": [],
      "source": [
        "np.log(x)"
      ]
    },
    {
      "cell_type": "code",
      "execution_count": null,
      "metadata": {
        "id": "iF-1uc0dMMi-"
      },
      "outputs": [],
      "source": [
        "np.sin(x)"
      ]
    },
    {
      "cell_type": "code",
      "execution_count": null,
      "metadata": {
        "id": "uS5g5REzMMi-"
      },
      "outputs": [],
      "source": [
        "x = np.arange(9)\n",
        "x"
      ]
    },
    {
      "cell_type": "code",
      "execution_count": null,
      "metadata": {
        "id": "jO4PmsTjMMi-"
      },
      "outputs": [],
      "source": [
        "x = np.arange(9).reshape((3, 3))\n",
        "x"
      ]
    },
    {
      "cell_type": "code",
      "execution_count": null,
      "metadata": {
        "id": "5jSdl2HqMMi-"
      },
      "outputs": [],
      "source": [
        "x.T"
      ]
    },
    {
      "cell_type": "code",
      "execution_count": null,
      "metadata": {
        "id": "QLMji9jCMMi_"
      },
      "outputs": [],
      "source": [
        "x = np.arange(6).reshape(2,3)\n",
        "x"
      ]
    },
    {
      "cell_type": "code",
      "execution_count": null,
      "metadata": {
        "id": "eGgw8SAVMMi_"
      },
      "outputs": [],
      "source": [
        "x.T"
      ]
    },
    {
      "cell_type": "code",
      "execution_count": null,
      "metadata": {
        "id": "H2zhq96XMMi_"
      },
      "outputs": [],
      "source": [
        "x = np.arange(9).reshape((3,3))\n",
        "x"
      ]
    },
    {
      "cell_type": "code",
      "execution_count": null,
      "metadata": {
        "id": "0wkArufjMMi_"
      },
      "outputs": [],
      "source": [
        "np.sum(x)"
      ]
    },
    {
      "cell_type": "code",
      "execution_count": null,
      "metadata": {
        "id": "9A5g4BqzMMi_"
      },
      "outputs": [],
      "source": [
        "np.amin(x)"
      ]
    },
    {
      "cell_type": "code",
      "execution_count": null,
      "metadata": {
        "id": "NOV6200MMMi_"
      },
      "outputs": [],
      "source": [
        "np.amax(x)"
      ]
    },
    {
      "cell_type": "code",
      "execution_count": null,
      "metadata": {
        "id": "M3zLBaOpMMi_"
      },
      "outputs": [],
      "source": [
        "np.amin(x, axis=0)"
      ]
    },
    {
      "cell_type": "code",
      "execution_count": null,
      "metadata": {
        "id": "XuP45M_RMMjA"
      },
      "outputs": [],
      "source": [
        "np.amin(x, axis=1)"
      ]
    },
    {
      "cell_type": "code",
      "execution_count": null,
      "metadata": {
        "id": "_4FnYjD-MMjA"
      },
      "outputs": [],
      "source": [
        "np.percentile(x, 80)"
      ]
    },
    {
      "cell_type": "code",
      "execution_count": null,
      "metadata": {
        "id": "_mUKPEjRMMjA"
      },
      "outputs": [],
      "source": [
        "x = np.array([1,-21,3,-3])\n",
        "np.argmax(x)"
      ]
    },
    {
      "cell_type": "code",
      "execution_count": null,
      "metadata": {
        "id": "_2zLIJl1MMjA"
      },
      "outputs": [],
      "source": [
        "np.argmin(x)"
      ]
    },
    {
      "cell_type": "code",
      "execution_count": null,
      "metadata": {
        "id": "iQHWMLCuMMjA"
      },
      "outputs": [],
      "source": [
        "x = np.array([[2, 3, 5], [20, 12, 4]])\n",
        "x"
      ]
    },
    {
      "cell_type": "code",
      "execution_count": null,
      "metadata": {
        "id": "cdrtHsjQMMjA"
      },
      "outputs": [],
      "source": [
        "np.mean(x)"
      ]
    },
    {
      "cell_type": "code",
      "execution_count": null,
      "metadata": {
        "id": "K4WOBstdMMjA"
      },
      "outputs": [],
      "source": [
        "np.mean(x, axis=0)"
      ]
    },
    {
      "cell_type": "code",
      "execution_count": null,
      "metadata": {
        "id": "9L2fB9DqMMjB"
      },
      "outputs": [],
      "source": [
        "np.mean(x, axis=1)"
      ]
    },
    {
      "cell_type": "code",
      "execution_count": null,
      "metadata": {
        "id": "se6xTBLPMMjB"
      },
      "outputs": [],
      "source": [
        "np.median(x)"
      ]
    },
    {
      "cell_type": "code",
      "execution_count": null,
      "metadata": {
        "id": "rqDOVbDLMMjB"
      },
      "outputs": [],
      "source": [
        "np.std(x)"
      ]
    },
    {
      "cell_type": "markdown",
      "metadata": {
        "id": "HSOcOAhkMMjB"
      },
      "source": [
        "# Working with Multidimensional Arrays"
      ]
    },
    {
      "cell_type": "code",
      "execution_count": null,
      "metadata": {
        "id": "-_FdzwN8MMjB"
      },
      "outputs": [],
      "source": [
        "import numpy as np"
      ]
    },
    {
      "cell_type": "code",
      "execution_count": null,
      "metadata": {
        "scrolled": true,
        "id": "v_uYtBHBMMjF"
      },
      "outputs": [],
      "source": [
        "c = np.ones((4, 4))\n",
        "c*c"
      ]
    },
    {
      "cell_type": "code",
      "execution_count": null,
      "metadata": {
        "id": "rW1VZldYMMjF"
      },
      "outputs": [],
      "source": [
        "c.dot(c)"
      ]
    },
    {
      "cell_type": "code",
      "execution_count": null,
      "metadata": {
        "id": "tsjtUNXnMMjF"
      },
      "outputs": [],
      "source": [
        "y = np.arange(15).reshape(3,5) \n",
        "x = np.arange(10).reshape(2,5)\n",
        "new_array = np.vstack((y,x))\n",
        "print('X = ', x)\n",
        "print('\\n')\n",
        "print('Y = ', y)\n",
        "new_array"
      ]
    },
    {
      "cell_type": "code",
      "execution_count": null,
      "metadata": {
        "id": "Mb8OGV_XMMjG"
      },
      "outputs": [],
      "source": [
        "y = np.arange(15).reshape(5,3) \n",
        "x = np.arange(10).reshape(5,2)\n",
        "new_array = np.hstack((y,x))\n",
        "new_array"
      ]
    },
    {
      "cell_type": "code",
      "execution_count": null,
      "metadata": {
        "id": "Ser4pLLUMMjG"
      },
      "outputs": [],
      "source": [
        "import numpy.ma as ma\n",
        "x = np.arange(6)\n",
        "print(x, x.mean())\n",
        "masked_array = ma.masked_array(x, mask=[1,0,0,0,0,0])\n",
        "masked_array.mean()"
      ]
    },
    {
      "cell_type": "code",
      "execution_count": null,
      "metadata": {
        "id": "9Ze-CAlGMMjG"
      },
      "outputs": [],
      "source": [
        "x = np.arange(25, dtype = float).reshape(5,5)\n",
        "x[x<5] = np.nan\n",
        "x"
      ]
    },
    {
      "cell_type": "code",
      "execution_count": null,
      "metadata": {
        "id": "RzXlaIOXMMjG"
      },
      "outputs": [],
      "source": [
        "np.where(np.isnan(x), ma.array(x, mask=np.isnan(x)).mean(axis=0), x)"
      ]
    },
    {
      "cell_type": "markdown",
      "metadata": {
        "id": "Sk15z1r-MMjG"
      },
      "source": [
        "# Indexing, Slicing, Reshaping, Resizing, Broadcasting"
      ]
    },
    {
      "cell_type": "code",
      "execution_count": null,
      "metadata": {
        "id": "4ETJeGq8MMjG"
      },
      "outputs": [],
      "source": [
        "import numpy as np"
      ]
    },
    {
      "cell_type": "code",
      "execution_count": null,
      "metadata": {
        "id": "o5GxxjdOMMjG"
      },
      "outputs": [],
      "source": [
        "x = [\"USA\",\"France\", \"Germany\",\"England\"]\n",
        "x[2]"
      ]
    },
    {
      "cell_type": "code",
      "execution_count": null,
      "metadata": {
        "id": "HIsPAP_qMMjH"
      },
      "outputs": [],
      "source": [
        "x = ('USA',3,\"France\",4)\n",
        "x[2]"
      ]
    },
    {
      "cell_type": "code",
      "execution_count": null,
      "metadata": {
        "id": "SHVgikUoMMjH"
      },
      "outputs": [],
      "source": [
        "x = np.arange(10)\n",
        "x"
      ]
    },
    {
      "cell_type": "code",
      "execution_count": null,
      "metadata": {
        "id": "ZXzn4SM9MMjH"
      },
      "outputs": [],
      "source": [
        "x[5]"
      ]
    },
    {
      "cell_type": "code",
      "execution_count": null,
      "metadata": {
        "id": "qNildcrkMMjH"
      },
      "outputs": [],
      "source": [
        "x[-2]"
      ]
    },
    {
      "cell_type": "code",
      "execution_count": null,
      "metadata": {
        "id": "yNmaJ-7MMMjH"
      },
      "outputs": [],
      "source": [
        "x[2:8]"
      ]
    },
    {
      "cell_type": "code",
      "execution_count": null,
      "metadata": {
        "id": "2X0wJCM8MMjH"
      },
      "outputs": [],
      "source": [
        "x[:]"
      ]
    },
    {
      "cell_type": "code",
      "execution_count": null,
      "metadata": {
        "id": "HSFGI8eEMMjH"
      },
      "outputs": [],
      "source": [
        "x[2:8:2]"
      ]
    },
    {
      "cell_type": "code",
      "execution_count": null,
      "metadata": {
        "id": "Q7l5UqnfMMjI"
      },
      "outputs": [],
      "source": [
        "x = np.reshape(np.arange(16),(4,4))\n",
        "x"
      ]
    },
    {
      "cell_type": "code",
      "execution_count": null,
      "metadata": {
        "id": "s4FbI38ZMMjI"
      },
      "outputs": [],
      "source": [
        "x[1:3]"
      ]
    },
    {
      "cell_type": "code",
      "execution_count": null,
      "metadata": {
        "id": "5Edf8UcRMMjI"
      },
      "outputs": [],
      "source": [
        "x[:,1:3]"
      ]
    },
    {
      "cell_type": "code",
      "execution_count": null,
      "metadata": {
        "id": "T3n0zDbsMMjI"
      },
      "outputs": [],
      "source": [
        "x[1:3,1:3]"
      ]
    },
    {
      "cell_type": "code",
      "execution_count": null,
      "metadata": {
        "id": "dAHhEZEwMMjI"
      },
      "outputs": [],
      "source": [
        "x = np.reshape(np.arange(16),(4,4))\n",
        "x"
      ]
    },
    {
      "cell_type": "code",
      "execution_count": null,
      "metadata": {
        "id": "8ok1APpqMMjI"
      },
      "outputs": [],
      "source": [
        "x[[0,1,2],[0,1,3]]"
      ]
    },
    {
      "cell_type": "code",
      "execution_count": null,
      "metadata": {
        "id": "pFWTvN9gMMjI"
      },
      "outputs": [],
      "source": [
        "x = np.arange(16).reshape(4,4)\n",
        "x"
      ]
    },
    {
      "cell_type": "code",
      "execution_count": null,
      "metadata": {
        "id": "e4rTiE0OMMjI"
      },
      "outputs": [],
      "source": [
        "np.resize(x,(2,2))"
      ]
    },
    {
      "cell_type": "code",
      "execution_count": null,
      "metadata": {
        "id": "A7KBBfJwMMjJ"
      },
      "outputs": [],
      "source": [
        "np.resize(x,(6,6))"
      ]
    },
    {
      "cell_type": "code",
      "execution_count": null,
      "metadata": {
        "id": "MHZjRJZrMMjJ"
      },
      "outputs": [],
      "source": [
        "x = np.arange(16).reshape(4,4)\n",
        "y = np.arange(6).reshape(2,3)\n",
        "x+y"
      ]
    },
    {
      "cell_type": "code",
      "execution_count": null,
      "metadata": {
        "id": "OUzAWTO6MMjJ"
      },
      "outputs": [],
      "source": [
        "x = np.ones(16).reshape(4,4)\n",
        "y = np.arange(4)\n",
        "x*y"
      ]
    },
    {
      "cell_type": "code",
      "execution_count": null,
      "metadata": {
        "id": "gsxxq-iAMMjJ"
      },
      "outputs": [],
      "source": [
        "x = np.arange(4).reshape(2,2)\n",
        "x"
      ]
    },
    {
      "cell_type": "code",
      "execution_count": null,
      "metadata": {
        "id": "QoeUGD-TMMjJ"
      },
      "outputs": [],
      "source": [
        "y = np.arange(2).reshape(1,2)\n",
        "y"
      ]
    },
    {
      "cell_type": "code",
      "execution_count": null,
      "metadata": {
        "id": "7yRA1Sa7MMjJ"
      },
      "outputs": [],
      "source": [
        "x*y"
      ]
    },
    {
      "cell_type": "code",
      "execution_count": null,
      "metadata": {
        "id": "g4dYtU7mMMjJ"
      },
      "outputs": [],
      "source": []
    }
  ],
  "metadata": {
    "kernelspec": {
      "display_name": "Python 3",
      "language": "python",
      "name": "python3"
    },
    "language_info": {
      "codemirror_mode": {
        "name": "ipython",
        "version": 3
      },
      "file_extension": ".py",
      "mimetype": "text/x-python",
      "name": "python",
      "nbconvert_exporter": "python",
      "pygments_lexer": "ipython3",
      "version": "3.7.6"
    },
    "colab": {
      "provenance": [],
      "include_colab_link": true
    }
  },
  "nbformat": 4,
  "nbformat_minor": 0
}