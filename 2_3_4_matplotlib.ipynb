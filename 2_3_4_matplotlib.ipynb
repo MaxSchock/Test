{
  "cells": [
    {
      "cell_type": "markdown",
      "metadata": {
        "id": "view-in-github",
        "colab_type": "text"
      },
      "source": [
        "<a href=\"https://colab.research.google.com/github/MaxSchock/Test/blob/main/2_3_4_matplotlib.ipynb\" target=\"_parent\"><img src=\"https://colab.research.google.com/assets/colab-badge.svg\" alt=\"Open In Colab\"/></a>"
      ]
    },
    {
      "cell_type": "markdown",
      "metadata": {
        "id": "XsuA6EBmt87_"
      },
      "source": [
        "Getting started with Matplotlib\n",
        "=="
      ]
    },
    {
      "cell_type": "markdown",
      "metadata": {
        "id": "0Tx93LgGt88F"
      },
      "source": [
        "# Loading data"
      ]
    },
    {
      "cell_type": "markdown",
      "metadata": {
        "id": "mW9vtZOWt88G"
      },
      "source": [
        "## List"
      ]
    },
    {
      "cell_type": "code",
      "execution_count": 1,
      "metadata": {
        "id": "IoE-YVE0t88G"
      },
      "outputs": [],
      "source": [
        "fibonacci = [1,1,2,3,5,8,13]"
      ]
    },
    {
      "cell_type": "code",
      "execution_count": 2,
      "metadata": {
        "colab": {
          "base_uri": "https://localhost:8080/"
        },
        "id": "Xvw6iG1Ut88I",
        "outputId": "a756a1fc-bdca-4038-da67-380ec65d142c"
      },
      "outputs": [
        {
          "output_type": "execute_result",
          "data": {
            "text/plain": [
              "[10, 15, 20, 25]"
            ]
          },
          "metadata": {},
          "execution_count": 2
        }
      ],
      "source": [
        "fifths = list(range(10,30,5))\n",
        "fifths"
      ]
    },
    {
      "cell_type": "code",
      "execution_count": 3,
      "metadata": {
        "scrolled": true,
        "colab": {
          "base_uri": "https://localhost:8080/"
        },
        "id": "Ya_GMM3Ut88J",
        "outputId": "bf93aff7-66e6-4f69-df04-ca23f4175f06"
      },
      "outputs": [
        {
          "output_type": "execute_result",
          "data": {
            "text/plain": [
              "True"
            ]
          },
          "metadata": {},
          "execution_count": 3
        }
      ],
      "source": [
        "list(range(10,30,5))==[10, 15, 20, 25]"
      ]
    },
    {
      "cell_type": "markdown",
      "metadata": {
        "id": "M2DuwGxZt88J"
      },
      "source": [
        "---\n",
        "## Numpy array"
      ]
    },
    {
      "cell_type": "code",
      "execution_count": 4,
      "metadata": {
        "colab": {
          "base_uri": "https://localhost:8080/"
        },
        "id": "AbK11C6et88K",
        "outputId": "ddab2811-758a-4312-c2b1-0393ef936a28"
      },
      "outputs": [
        {
          "output_type": "execute_result",
          "data": {
            "text/plain": [
              "numpy.ndarray"
            ]
          },
          "metadata": {},
          "execution_count": 4
        }
      ],
      "source": [
        "import numpy as np\n",
        "x = np.array([2,3,1,0])\n",
        "type(x)"
      ]
    },
    {
      "cell_type": "code",
      "execution_count": 5,
      "metadata": {
        "colab": {
          "base_uri": "https://localhost:8080/"
        },
        "id": "Az3HS6VBt88L",
        "outputId": "b3f98b24-bf8f-45a5-b64e-32e126f62e9f"
      },
      "outputs": [
        {
          "output_type": "execute_result",
          "data": {
            "text/plain": [
              "array([3.        , 3.10526316, 3.21052632, 3.31578947, 3.42105263,\n",
              "       3.52631579, 3.63157895, 3.73684211, 3.84210526, 3.94736842,\n",
              "       4.05263158, 4.15789474, 4.26315789, 4.36842105, 4.47368421,\n",
              "       4.57894737, 4.68421053, 4.78947368, 4.89473684, 5.        ])"
            ]
          },
          "metadata": {},
          "execution_count": 5
        }
      ],
      "source": [
        "np.linspace(3,5,20)"
      ]
    },
    {
      "cell_type": "code",
      "execution_count": 6,
      "metadata": {
        "colab": {
          "base_uri": "https://localhost:8080/"
        },
        "id": "1Oh77tRrt88M",
        "outputId": "5d349e89-9a0a-4190-f5e3-965762a657f5"
      },
      "outputs": [
        {
          "output_type": "execute_result",
          "data": {
            "text/plain": [
              "array([2, 6, 8])"
            ]
          },
          "metadata": {},
          "execution_count": 6
        }
      ],
      "source": [
        "a = np.array([1, 2, 1])\n",
        "b = np.array([2, 3, 8])\n",
        "a*b"
      ]
    },
    {
      "cell_type": "markdown",
      "metadata": {
        "id": "f6tpqV6Rt88N"
      },
      "source": [
        "---\n",
        "## Pandas DataFrame"
      ]
    },
    {
      "cell_type": "code",
      "execution_count": 9,
      "metadata": {
        "id": "LqtzCxw7t88N"
      },
      "outputs": [],
      "source": [
        "import pandas as pd"
      ]
    },
    {
      "cell_type": "code",
      "execution_count": 17,
      "metadata": {
        "colab": {
          "base_uri": "https://localhost:8080/",
          "height": 175
        },
        "id": "sANGue2At88O",
        "outputId": "541c3939-17dd-413d-b091-d1c99b6e8984"
      },
      "outputs": [
        {
          "output_type": "execute_result",
          "data": {
            "text/plain": [
              "   year sex        wgt\n",
              "0  2001   F  36.221914\n",
              "1  2001   M  36.481844\n",
              "2  2002   F  34.016799\n",
              "3  2002   M  37.589905"
            ],
            "text/html": [
              "\n",
              "  <div id=\"df-fc40a10c-6119-4779-b38d-fc1bfc58320c\">\n",
              "    <div class=\"colab-df-container\">\n",
              "      <div>\n",
              "<style scoped>\n",
              "    .dataframe tbody tr th:only-of-type {\n",
              "        vertical-align: middle;\n",
              "    }\n",
              "\n",
              "    .dataframe tbody tr th {\n",
              "        vertical-align: top;\n",
              "    }\n",
              "\n",
              "    .dataframe thead th {\n",
              "        text-align: right;\n",
              "    }\n",
              "</style>\n",
              "<table border=\"1\" class=\"dataframe\">\n",
              "  <thead>\n",
              "    <tr style=\"text-align: right;\">\n",
              "      <th></th>\n",
              "      <th>year</th>\n",
              "      <th>sex</th>\n",
              "      <th>wgt</th>\n",
              "    </tr>\n",
              "  </thead>\n",
              "  <tbody>\n",
              "    <tr>\n",
              "      <th>0</th>\n",
              "      <td>2001</td>\n",
              "      <td>F</td>\n",
              "      <td>36.221914</td>\n",
              "    </tr>\n",
              "    <tr>\n",
              "      <th>1</th>\n",
              "      <td>2001</td>\n",
              "      <td>M</td>\n",
              "      <td>36.481844</td>\n",
              "    </tr>\n",
              "    <tr>\n",
              "      <th>2</th>\n",
              "      <td>2002</td>\n",
              "      <td>F</td>\n",
              "      <td>34.016799</td>\n",
              "    </tr>\n",
              "    <tr>\n",
              "      <th>3</th>\n",
              "      <td>2002</td>\n",
              "      <td>M</td>\n",
              "      <td>37.589905</td>\n",
              "    </tr>\n",
              "  </tbody>\n",
              "</table>\n",
              "</div>\n",
              "      <button class=\"colab-df-convert\" onclick=\"convertToInteractive('df-fc40a10c-6119-4779-b38d-fc1bfc58320c')\"\n",
              "              title=\"Convert this dataframe to an interactive table.\"\n",
              "              style=\"display:none;\">\n",
              "        \n",
              "  <svg xmlns=\"http://www.w3.org/2000/svg\" height=\"24px\"viewBox=\"0 0 24 24\"\n",
              "       width=\"24px\">\n",
              "    <path d=\"M0 0h24v24H0V0z\" fill=\"none\"/>\n",
              "    <path d=\"M18.56 5.44l.94 2.06.94-2.06 2.06-.94-2.06-.94-.94-2.06-.94 2.06-2.06.94zm-11 1L8.5 8.5l.94-2.06 2.06-.94-2.06-.94L8.5 2.5l-.94 2.06-2.06.94zm10 10l.94 2.06.94-2.06 2.06-.94-2.06-.94-.94-2.06-.94 2.06-2.06.94z\"/><path d=\"M17.41 7.96l-1.37-1.37c-.4-.4-.92-.59-1.43-.59-.52 0-1.04.2-1.43.59L10.3 9.45l-7.72 7.72c-.78.78-.78 2.05 0 2.83L4 21.41c.39.39.9.59 1.41.59.51 0 1.02-.2 1.41-.59l7.78-7.78 2.81-2.81c.8-.78.8-2.07 0-2.86zM5.41 20L4 18.59l7.72-7.72 1.47 1.35L5.41 20z\"/>\n",
              "  </svg>\n",
              "      </button>\n",
              "      \n",
              "  <style>\n",
              "    .colab-df-container {\n",
              "      display:flex;\n",
              "      flex-wrap:wrap;\n",
              "      gap: 12px;\n",
              "    }\n",
              "\n",
              "    .colab-df-convert {\n",
              "      background-color: #E8F0FE;\n",
              "      border: none;\n",
              "      border-radius: 50%;\n",
              "      cursor: pointer;\n",
              "      display: none;\n",
              "      fill: #1967D2;\n",
              "      height: 32px;\n",
              "      padding: 0 0 0 0;\n",
              "      width: 32px;\n",
              "    }\n",
              "\n",
              "    .colab-df-convert:hover {\n",
              "      background-color: #E2EBFA;\n",
              "      box-shadow: 0px 1px 2px rgba(60, 64, 67, 0.3), 0px 1px 3px 1px rgba(60, 64, 67, 0.15);\n",
              "      fill: #174EA6;\n",
              "    }\n",
              "\n",
              "    [theme=dark] .colab-df-convert {\n",
              "      background-color: #3B4455;\n",
              "      fill: #D2E3FC;\n",
              "    }\n",
              "\n",
              "    [theme=dark] .colab-df-convert:hover {\n",
              "      background-color: #434B5C;\n",
              "      box-shadow: 0px 1px 3px 1px rgba(0, 0, 0, 0.15);\n",
              "      filter: drop-shadow(0px 1px 2px rgba(0, 0, 0, 0.3));\n",
              "      fill: #FFFFFF;\n",
              "    }\n",
              "  </style>\n",
              "\n",
              "      <script>\n",
              "        const buttonEl =\n",
              "          document.querySelector('#df-fc40a10c-6119-4779-b38d-fc1bfc58320c button.colab-df-convert');\n",
              "        buttonEl.style.display =\n",
              "          google.colab.kernel.accessAllowed ? 'block' : 'none';\n",
              "\n",
              "        async function convertToInteractive(key) {\n",
              "          const element = document.querySelector('#df-fc40a10c-6119-4779-b38d-fc1bfc58320c');\n",
              "          const dataTable =\n",
              "            await google.colab.kernel.invokeFunction('convertToInteractive',\n",
              "                                                     [key], {});\n",
              "          if (!dataTable) return;\n",
              "\n",
              "          const docLinkHtml = 'Like what you see? Visit the ' +\n",
              "            '<a target=\"_blank\" href=https://colab.research.google.com/notebooks/data_table.ipynb>data table notebook</a>'\n",
              "            + ' to learn more about interactive tables.';\n",
              "          element.innerHTML = '';\n",
              "          dataTable['output_type'] = 'display_data';\n",
              "          await google.colab.output.renderOutput(dataTable, element);\n",
              "          const docLink = document.createElement('div');\n",
              "          docLink.innerHTML = docLinkHtml;\n",
              "          element.appendChild(docLink);\n",
              "        }\n",
              "      </script>\n",
              "    </div>\n",
              "  </div>\n",
              "  "
            ]
          },
          "metadata": {},
          "execution_count": 17
        }
      ],
      "source": [
        "#for example\n",
        "pd.read_csv('data/test.txt',sep='\\t')"
      ]
    },
    {
      "cell_type": "markdown",
      "metadata": {
        "id": "p46T5l-xt88P"
      },
      "source": [
        "# First plots with Matplotlib "
      ]
    },
    {
      "cell_type": "markdown",
      "metadata": {
        "id": "iT2ez0tct88P"
      },
      "source": [
        "## Importing the pyplot"
      ]
    },
    {
      "cell_type": "code",
      "execution_count": null,
      "metadata": {
        "id": "0x96fZa6t88P"
      },
      "outputs": [],
      "source": [
        "import matplotlib.pyplot as plt"
      ]
    },
    {
      "cell_type": "markdown",
      "metadata": {
        "id": "Sey13qv0t88P"
      },
      "source": [
        "---\n",
        "## Line plot "
      ]
    },
    {
      "cell_type": "code",
      "execution_count": null,
      "metadata": {
        "id": "jE702zPIt88Q"
      },
      "outputs": [],
      "source": [
        "import matplotlib.pyplot as plt\n",
        "t = [22.2,22.3,22.5,21.8,22.5,23.4,22.8]\n",
        "plt.plot(t)\n",
        "plt.show()"
      ]
    },
    {
      "cell_type": "code",
      "execution_count": null,
      "metadata": {
        "id": "p5tRvUgjt88Q"
      },
      "outputs": [],
      "source": [
        "import matplotlib.pyplot as plt\n",
        "t = [22.2,22.3,22.5,21.8,22.5,23.4,22.8]\n",
        "plt.plot(t)"
      ]
    },
    {
      "cell_type": "code",
      "execution_count": null,
      "metadata": {
        "id": "nb9J1h8Lt88R"
      },
      "outputs": [],
      "source": [
        "plt.show()"
      ]
    },
    {
      "cell_type": "code",
      "execution_count": null,
      "metadata": {
        "id": "fHJLfjzqt88R"
      },
      "outputs": [],
      "source": [
        "import matplotlib.pyplot as plt\n",
        "t = [22.2,22.3,22.5,21.8,22.5,23.4,22.8]\n",
        "plt.plot(t)\n",
        "t = [22.2,22.3,22.5,21.8,22.5,23.4,22.8]\n",
        "plt.plot(t)\n",
        "plt.show()"
      ]
    },
    {
      "cell_type": "code",
      "execution_count": null,
      "metadata": {
        "id": "eaSJNVUSt88S"
      },
      "outputs": [],
      "source": [
        "%matplotlib inline\n",
        "plt.plot([1,2,3])"
      ]
    },
    {
      "cell_type": "code",
      "execution_count": null,
      "metadata": {
        "id": "9P2vM6VOt88T"
      },
      "outputs": [],
      "source": [
        "plt.plot([1,2,3]);"
      ]
    },
    {
      "cell_type": "code",
      "execution_count": null,
      "metadata": {
        "id": "C1fxbSawt88T"
      },
      "outputs": [],
      "source": [
        "d = [11,12,13,14,15,16,17]\n",
        "plt.plot(d,t)\n",
        "plt.show()"
      ]
    },
    {
      "cell_type": "markdown",
      "metadata": {
        "id": "1Pky-ZILt88U"
      },
      "source": [
        "# Scatter plot"
      ]
    },
    {
      "cell_type": "code",
      "execution_count": null,
      "metadata": {
        "id": "iCZjYh0Bt88U"
      },
      "outputs": [],
      "source": [
        "import numpy as np\n",
        "import matplotlib.pyplot as plt\n",
        "\n",
        "# Set the random seed for Numpy function to keep the results reproducible\n",
        "np.random.seed(42)\n",
        "\n",
        "# Generate a 2 by 100 Numpy Array of random decimals between 0 and 1\n",
        "r = np.random.rand(2,100)\n",
        "\n",
        "# Plot the x and y coordinates of the random dots on a scatter plot\n",
        "plt.scatter(r[0],r[1])\n",
        "\n",
        "# Show the plot\n",
        "plt.show()\n"
      ]
    },
    {
      "cell_type": "markdown",
      "metadata": {
        "id": "RX3jspCzt88U"
      },
      "source": [
        "# Multiline plots"
      ]
    },
    {
      "cell_type": "code",
      "execution_count": null,
      "metadata": {
        "id": "vd18Dq2ut88V"
      },
      "outputs": [],
      "source": [
        "import matplotlib.pyplot as plt\n",
        "\n",
        "# Prepare the data series\n",
        "d = [11,12,13,14,15,16,17]\n",
        "t0 = [15.3,15.4,12.6,12.7,13.2,12.3,11.4]\n",
        "t1 = [26.1,26.2,24.3,25.1,26.7,27.8,26.9]\n",
        "t2 = [22.3,20.6,19.8,21.6,21.3,19.4,21.4]\n",
        "\n",
        "# Plot the lines for each data series\n",
        "plt.plot(d,t0)\n",
        "plt.plot(d,t1)\n",
        "plt.plot(d,t2)\n",
        "\n",
        "plt.show()"
      ]
    },
    {
      "cell_type": "markdown",
      "metadata": {
        "id": "Ttfu_oSzt88V"
      },
      "source": [
        "# Scatter plot to show clusters"
      ]
    },
    {
      "cell_type": "code",
      "execution_count": null,
      "metadata": {
        "id": "CWSd9ryet88W"
      },
      "outputs": [],
      "source": [
        "import matplotlib.pyplot as plt\n",
        "\n",
        "# seed the random number generator to keep results reproducible\n",
        "np.random.seed(123) \n",
        "\n",
        "# Generate 10 random numbers around 2 as x-coordinates of the first data series\n",
        "x0 = np.random.rand(10)+1.5\n",
        "\n",
        "# Generate the y-coordinates another data series similarly\n",
        "np.random.seed(321) \n",
        "y0 = np.random.rand(10)+2\n",
        "np.random.seed(456)\n",
        "x1 = np.random.rand(10)+2.5\n",
        "np.random.seed(789)\n",
        "y1 = np.random.rand(10)+2\n",
        "plt.scatter(x0,y0)\n",
        "plt.scatter(x1,y1)\n",
        "\n",
        "plt.show()"
      ]
    },
    {
      "cell_type": "code",
      "execution_count": null,
      "metadata": {
        "id": "kkFpOh-St88W"
      },
      "outputs": [],
      "source": [
        "import matplotlib.pyplot as plt\n",
        "from sklearn.datasets import make_blobs\n",
        "\n",
        "# make blobs with 3 centers with random seed of 23\n",
        "blob_coords,features = make_blobs(centers=3, random_state=23)\n",
        "\n",
        "# plot the blobs, with c value set to map colors to features\n",
        "plt.scatter(blob_coords[:, 0], blob_coords[:, 1], marker='x', c=features) \n",
        "plt.show()"
      ]
    },
    {
      "cell_type": "markdown",
      "metadata": {
        "id": "lQNcKIGgt88X"
      },
      "source": [
        "# Adding a trendline over a scatter plot"
      ]
    },
    {
      "cell_type": "code",
      "execution_count": null,
      "metadata": {
        "id": "56-fdjd1t88X"
      },
      "outputs": [],
      "source": [
        "import numpy as np\n",
        "import matplotlib.pyplot as plt\n",
        "\n",
        "np.random.seed(100)\n",
        "x = list(range(10))\n",
        "y = x+np.random.rand(10)-0.5\n",
        "fit = np.polyfit(x,y,1)\n",
        "print(fit)\n",
        "yfit = [n*fit[0] for n in x]+fit[1]\n",
        "plt.scatter(x,y)\n",
        "plt.plot(yfit,'black')\n",
        "\n",
        "plt.show()"
      ]
    },
    {
      "cell_type": "markdown",
      "metadata": {
        "id": "0Hjn4qryt88X"
      },
      "source": [
        "---\n",
        "# Adjusting axes, grids, labels, titles and legends "
      ]
    },
    {
      "cell_type": "markdown",
      "metadata": {
        "id": "HbE9pMwxt88Y"
      },
      "source": [
        "# Adjusting axis limits"
      ]
    },
    {
      "cell_type": "code",
      "execution_count": null,
      "metadata": {
        "id": "JRjYGLBgt88Y"
      },
      "outputs": [],
      "source": [
        "import matplotlib.pyplot as plt\n",
        "\n",
        "d = [11,12,13,14,15,16,17]\n",
        "\n",
        "t0 = [15.3,12.6,12.7,13.2,12.3,11.4,12.8]\n",
        "t1 = [26.1,26.2,24.3,25.1,26.7,27.8,26.9]\n",
        "t2 = [22.3,20.6,19.8,21.6,21.3,19.4,21.4]\n",
        "\n",
        "plt.plot(d,t0)\n",
        "plt.plot(d,t1)\n",
        "plt.plot(d,t2)\n",
        "\n",
        "plt.xlim(11,15)\n",
        "plt.ylim(0,30)\n",
        "\n",
        "plt.show()"
      ]
    },
    {
      "cell_type": "markdown",
      "metadata": {
        "id": "Edhi8Xb-t88Y"
      },
      "source": [
        "# Adding axis labels"
      ]
    },
    {
      "cell_type": "code",
      "execution_count": null,
      "metadata": {
        "id": "Sz-GWi43t88Y"
      },
      "outputs": [],
      "source": [
        "import matplotlib.pyplot as plt\n",
        "\n",
        "d = [11,12,13,14,15,16,17]\n",
        "\n",
        "t0 = [15.3,12.6,12.7,13.2,12.3,11.4,12.8]\n",
        "t1 = [26.1,26.2,24.3,25.1,26.7,27.8,26.9]\n",
        "t2 = [22.3,20.6,19.8,21.6,21.3,19.4,21.4]\n",
        "\n",
        "plt.plot(d,t0)\n",
        "plt.plot(d,t1)\n",
        "plt.plot(d,t2)\n",
        "\n",
        "plt.xlim(11,15)\n",
        "plt.ylim(0,30)\n",
        "\n",
        "plt.xlabel('Date',size=12,fontweight='semibold')\n",
        "plt.ylabel('Temperature (°C)',size=12,fontweight='semibold')\n",
        "\n",
        "plt.show()"
      ]
    },
    {
      "cell_type": "markdown",
      "metadata": {
        "id": "TgdsYkfqt88Z"
      },
      "source": [
        "# Adding a grid"
      ]
    },
    {
      "cell_type": "code",
      "execution_count": null,
      "metadata": {
        "id": "CiMds4bDt88Z"
      },
      "outputs": [],
      "source": [
        "import matplotlib.pyplot as plt\n",
        "\n",
        "d = [11,12,13,14,15,16,17]\n",
        "\n",
        "t0 = [15.3,12.6,12.7,13.2,12.3,11.4,12.8]\n",
        "t1 = [26.1,26.2,24.3,25.1,26.7,27.8,26.9]\n",
        "t2 = [22.3,20.6,19.8,21.6,21.3,19.4,21.4]\n",
        "\n",
        "plt.plot(d,t0)\n",
        "plt.plot(d,t1)\n",
        "plt.plot(d,t2)\n",
        "\n",
        "plt.xlim(11,15)\n",
        "plt.ylim(0,30)\n",
        "\n",
        "plt.xlabel('Date',size=12,fontweight='semibold')\n",
        "plt.ylabel('Temperature (°C)',size=12,fontweight='semibold')\n",
        "\n",
        "plt.grid(True)\n",
        "\n",
        "plt.show()"
      ]
    },
    {
      "cell_type": "code",
      "execution_count": null,
      "metadata": {
        "id": "B41xAkxct88Z"
      },
      "outputs": [],
      "source": [
        "import matplotlib.pyplot as plt\n",
        "\n",
        "d = [11,12,13,14,15,16,17]\n",
        "\n",
        "t0 = [15.3,12.6,12.7,13.2,12.3,11.4,12.8]\n",
        "t1 = [26.1,26.2,24.3,25.1,26.7,27.8,26.9]\n",
        "t2 = [22.3,20.6,19.8,21.6,21.3,19.4,21.4]\n",
        "\n",
        "plt.plot(d,t0)\n",
        "plt.plot(d,t1)\n",
        "plt.plot(d,t2)\n",
        "\n",
        "plt.xlim(11,15)\n",
        "plt.ylim(0,30)\n",
        "\n",
        "plt.xlabel('Date',size=12,fontweight='semibold')\n",
        "plt.ylabel('Temperature (°C)',size=12,fontweight='semibold')\n",
        "\n",
        "plt.grid(True,linewidth=0.5,color='#aaaaaa',linestyle='-')\n",
        "\n",
        "plt.show()"
      ]
    },
    {
      "cell_type": "markdown",
      "metadata": {
        "id": "wFEzrE2Pt88Z"
      },
      "source": [
        "# Adding a title"
      ]
    },
    {
      "cell_type": "code",
      "execution_count": null,
      "metadata": {
        "id": "Vl22rA7Pt88a"
      },
      "outputs": [],
      "source": [
        "import matplotlib.pyplot as plt\n",
        "\n",
        "d = [11,12,13,14,15,16,17]\n",
        "\n",
        "t0 = [15.3,12.6,12.7,13.2,12.3,11.4,12.8]\n",
        "t1 = [26.1,26.2,24.3,25.1,26.7,27.8,26.9]\n",
        "t2 = [22.3,20.6,19.8,21.6,21.3,19.4,21.4]\n",
        "\n",
        "plt.plot(d,t0)\n",
        "plt.plot(d,t1)\n",
        "plt.plot(d,t2)\n",
        "\n",
        "plt.xlim(11,15)\n",
        "plt.ylim(0,30)\n",
        "\n",
        "plt.xlabel('Date',size=12,fontweight='semibold')\n",
        "plt.ylabel('Temperature (°C)',size=12,fontweight='semibold')\n",
        "\n",
        "plt.grid(True,linewidth=0.5,color='#aaaaaa',linestyle='-')\n",
        "plt.title(\"Daily temperature of 3 cities in the second week of December\", size=14, fontweight='bold')\n",
        "\n",
        "plt.show()"
      ]
    },
    {
      "cell_type": "markdown",
      "metadata": {
        "id": "gY8evyhIt88a"
      },
      "source": [
        "# Adding a legend"
      ]
    },
    {
      "cell_type": "code",
      "execution_count": null,
      "metadata": {
        "id": "M1LJa4xut88b"
      },
      "outputs": [],
      "source": [
        "import matplotlib.pyplot as plt\n",
        "\n",
        "d = [11,12,13,14,15,16,17]\n",
        "\n",
        "t0 = [15.3,12.6,12.7,13.2,12.3,11.4,12.8]\n",
        "t1 = [26.1,26.2,24.3,25.1,26.7,27.8,26.9]\n",
        "t2 = [22.3,20.6,19.8,21.6,21.3,19.4,21.4]\n",
        "\n",
        "plt.plot(d,t0,label='Tokyo')\n",
        "plt.plot(d,t1,label='Hawaii')\n",
        "plt.plot(d,t2,label='Hong Kong')\n",
        "\n",
        "plt.xlim(11,15)\n",
        "plt.ylim(0,30)\n",
        "\n",
        "plt.xlabel('Date',size=12,fontweight='semibold')\n",
        "plt.ylabel('Temperature (°C)',size=12,fontweight='semibold')\n",
        "\n",
        "plt.grid(True,linewidth=0.5,color='#aaaaaa',linestyle='-')\n",
        "\n",
        "plt.title(\"Daily temperature of 3 cities in the second week of December\", size=14, fontweight='bold')\n",
        "\n",
        "plt.legend(loc=(0.64,0.1))\n",
        "plt.show()\n"
      ]
    },
    {
      "cell_type": "markdown",
      "metadata": {
        "id": "L9nP78ipt88b"
      },
      "source": [
        "# A complete example"
      ]
    },
    {
      "cell_type": "code",
      "execution_count": null,
      "metadata": {
        "id": "h5sUTiGXt88c"
      },
      "outputs": [],
      "source": [
        "# Import relevant modules\n",
        "import pandas as pd\n",
        "import matplotlib.pyplot as plt\n",
        "\n",
        "# Import dataset\n",
        "crop_prod = pd.read_csv('OECD-THND_TONNES.txt',delimiter='\\t')\n",
        "years = crop_prod[crop_prod['Crop']=='SOYBEAN']['Year']\n",
        "rice = crop_prod[crop_prod['Crop']=='RICE']['Value']\n",
        "wheat = crop_prod[crop_prod['Crop']=='WHEAT']['Value']\n",
        "maize = crop_prod[crop_prod['Crop']=='MAIZE']['Value']\n",
        "soybean = crop_prod[crop_prod['Crop']=='SOYBEAN']['Value']\n",
        "\n",
        "# Plot the data series\n",
        "plt.plot(years, rice, label='Rice')\n",
        "plt.plot(years, wheat, label='Wheat')\n",
        "plt.plot(years, maize, label='Maize')\n",
        "plt.plot(years, soybean, label='Soybean')\n",
        "\n",
        "# Label the x- and y-axes\n",
        "plt.xlabel('Year',size=12,fontweight='semibold')\n",
        "plt.ylabel('Thousand tonnes',size=12,fontweight='semibold')\n",
        "\n",
        "# Add grid\n",
        "plt.grid(linestyle='--',color='#888888',alpha=0.4)\n",
        "\n",
        "# Add the title and legend\n",
        "plt.title('Total OECD crop production in 1995-2016', size=14, fontweight='semibold')\n",
        "plt.legend()\n",
        "\n",
        "# Show the figure\n",
        "plt.show()"
      ]
    },
    {
      "cell_type": "markdown",
      "metadata": {
        "id": "VQG4i3V2t88c"
      },
      "source": [
        "# Saving plots to a file"
      ]
    },
    {
      "cell_type": "code",
      "execution_count": null,
      "metadata": {
        "id": "bai2PqIEt88c"
      },
      "outputs": [],
      "source": [
        "import numpy as np\n",
        "import matplotlib.pyplot as plt\n",
        "\n",
        "y = np.linspace(1,2000)\n",
        "x = 1.0/np.sin(y)\n",
        "\n",
        "plt.plot(x,y,'green')\n",
        "plt.xlim(-20,20)\n",
        "plt.ylim(1000,2400)\n",
        "plt.show()\n",
        "plt.savefig('123')"
      ]
    },
    {
      "cell_type": "markdown",
      "metadata": {
        "id": "S7SE0R-et88d"
      },
      "source": [
        "---\n",
        "# Jupyter support"
      ]
    },
    {
      "cell_type": "markdown",
      "metadata": {
        "id": "rv6sKkvWt88d"
      },
      "source": [
        "## Interactive navigation toolbar"
      ]
    },
    {
      "cell_type": "code",
      "execution_count": null,
      "metadata": {
        "id": "di97xDCjt88d"
      },
      "outputs": [],
      "source": [
        "%matplotlib notebook"
      ]
    },
    {
      "cell_type": "code",
      "execution_count": null,
      "metadata": {
        "id": "s74mRwq4t88d"
      },
      "outputs": [],
      "source": [
        "import numpy as np\n",
        "import matplotlib.pyplot as plt\n",
        "\n",
        "y = np.linspace(1,2000)\n",
        "x = 1.0/np.sin(y)\n",
        "\n",
        "plt.plot(x,y,'green')\n",
        "plt.xlim(-20,20)\n",
        "plt.ylim(1000,2400)\n",
        "plt.show()"
      ]
    },
    {
      "cell_type": "markdown",
      "metadata": {
        "id": "DSrLQb4pt88e"
      },
      "source": [
        "revert to inline output mode"
      ]
    },
    {
      "cell_type": "code",
      "execution_count": null,
      "metadata": {
        "id": "cEjv3K-xt88e"
      },
      "outputs": [],
      "source": [
        "%matplotlib inline"
      ]
    },
    {
      "cell_type": "markdown",
      "metadata": {
        "id": "Wq8_5ocqt88e"
      },
      "source": [
        "# Configuring Matplotlib"
      ]
    },
    {
      "cell_type": "code",
      "execution_count": null,
      "metadata": {
        "id": "TvyKE9dCt88f"
      },
      "outputs": [],
      "source": [
        "import matplotlib as mpl\n",
        "mpl.matplotlib_fname()"
      ]
    }
  ],
  "metadata": {
    "kernelspec": {
      "display_name": "Python 3",
      "language": "python",
      "name": "python3"
    },
    "language_info": {
      "codemirror_mode": {
        "name": "ipython",
        "version": 3
      },
      "file_extension": ".py",
      "mimetype": "text/x-python",
      "name": "python",
      "nbconvert_exporter": "python",
      "pygments_lexer": "ipython3",
      "version": "3.7.6"
    },
    "colab": {
      "provenance": [],
      "include_colab_link": true
    }
  },
  "nbformat": 4,
  "nbformat_minor": 0
}