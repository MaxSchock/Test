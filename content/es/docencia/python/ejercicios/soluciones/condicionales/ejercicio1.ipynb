{
  "cells": [
    {
      "cell_type": "markdown",
      "metadata": {
        "id": "view-in-github",
        "colab_type": "text"
      },
      "source": [
        "<a href=\"https://colab.research.google.com/github/MaxSchock/Test/blob/main/content/es/docencia/python/ejercicios/soluciones/condicionales/ejercicio1.ipynb\" target=\"_parent\"><img src=\"https://colab.research.google.com/assets/colab-badge.svg\" alt=\"Open In Colab\"/></a>"
      ]
    },
    {
      "cell_type": "markdown",
      "metadata": {
        "id": "SA3m5MXlD4R4"
      },
      "source": [
        "## Ejercicio\n",
        "Escribir un programa que pregunte al usuario su edad y muestre por pantalla si es mayor de edad o no."
      ]
    },
    {
      "cell_type": "markdown",
      "metadata": {
        "id": "AJB90_S9D4R9"
      },
      "source": [
        "## Solución"
      ]
    },
    {
      "cell_type": "code",
      "execution_count": 2,
      "metadata": {
        "colab": {
          "base_uri": "https://localhost:8080/"
        },
        "id": "AH4dGncQD4R_",
        "outputId": "08aaa994-3197-42ce-8e4d-f98886884f87"
      },
      "outputs": [
        {
          "output_type": "stream",
          "name": "stdout",
          "text": [
            "¿Cuál es tu edad? 18\n",
            "Eres mayor de edad.\n"
          ]
        }
      ],
      "source": [
        "age = int(input(\"¿Cuál es tu edad? \"))\n",
        "if age < 18: \n",
        "    print (\"Eres menor de edad.\")\n",
        "else:\n",
        "    print(\"Eres mayor de edad.\")"
      ]
    },
    {
      "cell_type": "code",
      "source": [
        "password = \"contraseña\"\n",
        "pass_usuario = input(\"Introduzca su contraseña: \")\n",
        "if password == pass_usuario.lower():\n",
        "  print(\"Contraseña correcta.\")\n",
        "else:\n",
        "  print(\"Contraseña incorrecta\")\n",
        "'''Movemos el print hacia atrás para que no forme parte del bloque if.\n",
        "Así sale el aviso Programa Teminado'''\n",
        "print(\"Programa terminado.\")"
      ],
      "metadata": {
        "colab": {
          "base_uri": "https://localhost:8080/"
        },
        "id": "zsC4czRsEElr",
        "outputId": "28eb723e-7941-4a0a-ddd2-1b3e145094c7"
      },
      "execution_count": 9,
      "outputs": [
        {
          "output_type": "stream",
          "name": "stdout",
          "text": [
            "Introduzca su contraseña: CONTRASEÑA\n",
            "Contraseña correcta.\n",
            "Programa terminado.\n"
          ]
        }
      ]
    },
    {
      "cell_type": "code",
      "source": [
        "dividendo = int(input(\"Dividendo: \"))\n",
        "divisor = int(input(\"Divisor: \"))\n",
        "if divisor == 0:\n",
        "  print(\"Indeterminación.\")\n",
        "else:\n",
        "  print(\"División: \", dividendo/divisor)"
      ],
      "metadata": {
        "colab": {
          "base_uri": "https://localhost:8080/"
        },
        "id": "BOiezUHnKA7i",
        "outputId": "aa5875de-1607-44ed-cfc1-437ab4cb8af3"
      },
      "execution_count": 13,
      "outputs": [
        {
          "output_type": "stream",
          "name": "stdout",
          "text": [
            "Dividendo: 0\n",
            "Divisor: 20\n",
            "División:  0.0\n"
          ]
        }
      ]
    },
    {
      "cell_type": "code",
      "source": [
        "numero = int(input(\"Número: \"))\n",
        "if numero % 2 == 0:\n",
        "  print(\"Es un número par.\")\n",
        "else:\n",
        "  print(\"Número impar.\")\n",
        "\n",
        "print(\"Programa terminado.\")"
      ],
      "metadata": {
        "colab": {
          "base_uri": "https://localhost:8080/"
        },
        "id": "5lfl8rCjM-9s",
        "outputId": "25a26ecf-8651-4d8b-85a2-b2b4abd126e2"
      },
      "execution_count": 17,
      "outputs": [
        {
          "output_type": "stream",
          "name": "stdout",
          "text": [
            "Número: 5\n",
            "Número impar.\n",
            "Programa terminado.\n"
          ]
        }
      ]
    },
    {
      "cell_type": "code",
      "source": [
        "edad = int(input(\"Edad: \"))\n",
        "ingresos = float(input(\"Ingresos: \"))\n",
        "\n",
        "if edad > 16:\n",
        "  if ingresos >= 1000:\n",
        "    print(\"A pagar.\")\n",
        "  else:\n",
        "    print(\"No tienes que tributar\")\n",
        "else:\n",
        "  print(\"Por ahora te libras.\")"
      ],
      "metadata": {
        "colab": {
          "base_uri": "https://localhost:8080/"
        },
        "id": "xIZajUz6Po5c",
        "outputId": "026dda20-588a-4039-8ee6-abcd5692b986"
      },
      "execution_count": 25,
      "outputs": [
        {
          "output_type": "stream",
          "name": "stdout",
          "text": [
            "Edad: 18\n",
            "Ingresos: 1000\n",
            "A pagar.\n"
          ]
        }
      ]
    },
    {
      "cell_type": "code",
      "source": [
        "edad = int(input(\"Edad: \"))\n",
        "ingresos = float(input(\"Ingresos: \"))\n",
        "\n",
        "if (edad > 16) and (ingresos >= 1000):\n",
        "  print(\"Pagas.\")\n",
        "else:\n",
        "  print(\"No pagas.\")"
      ],
      "metadata": {
        "id": "-EikJqkdSjkH",
        "outputId": "deba912a-e0f0-4633-8e30-ace73636cf76",
        "colab": {
          "base_uri": "https://localhost:8080/"
        }
      },
      "execution_count": 28,
      "outputs": [
        {
          "output_type": "stream",
          "name": "stdout",
          "text": [
            "Edad: 18\n",
            "Ingresos: 999\n",
            "No pagas.\n"
          ]
        }
      ]
    }
  ],
  "metadata": {
    "kernelspec": {
      "display_name": "Python 3",
      "language": "python",
      "name": "python3"
    },
    "language_info": {
      "codemirror_mode": {
        "name": "ipython",
        "version": 3
      },
      "file_extension": ".py",
      "mimetype": "text/x-python",
      "name": "python",
      "nbconvert_exporter": "python",
      "pygments_lexer": "ipython3",
      "version": "3.7.1"
    },
    "colab": {
      "provenance": [],
      "include_colab_link": true
    }
  },
  "nbformat": 4,
  "nbformat_minor": 0
}