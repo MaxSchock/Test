{
  "cells": [
    {
      "cell_type": "markdown",
      "metadata": {
        "id": "view-in-github",
        "colab_type": "text"
      },
      "source": [
        "<a href=\"https://colab.research.google.com/github/MaxSchock/Test/blob/main/content/es/docencia/python/ejercicios/soluciones/condicionales/ejercicio1.ipynb\" target=\"_parent\"><img src=\"https://colab.research.google.com/assets/colab-badge.svg\" alt=\"Open In Colab\"/></a>"
      ]
    },
    {
      "cell_type": "markdown",
      "metadata": {
        "id": "SA3m5MXlD4R4"
      },
      "source": [
        "## Ejercicio\n",
        "Escribir un programa que pregunte al usuario su edad y muestre por pantalla si es mayor de edad o no."
      ]
    },
    {
      "cell_type": "markdown",
      "metadata": {
        "id": "AJB90_S9D4R9"
      },
      "source": [
        "## Solución"
      ]
    },
    {
      "cell_type": "code",
      "execution_count": 2,
      "metadata": {
        "colab": {
          "base_uri": "https://localhost:8080/"
        },
        "id": "AH4dGncQD4R_",
        "outputId": "08aaa994-3197-42ce-8e4d-f98886884f87"
      },
      "outputs": [
        {
          "output_type": "stream",
          "name": "stdout",
          "text": [
            "¿Cuál es tu edad? 18\n",
            "Eres mayor de edad.\n"
          ]
        }
      ],
      "source": [
        "age = int(input(\"¿Cuál es tu edad? \"))\n",
        "if age < 18: \n",
        "    print (\"Eres menor de edad.\")\n",
        "else:\n",
        "    print(\"Eres mayor de edad.\")"
      ]
    },
    {
      "cell_type": "code",
      "source": [
        "password = \"contraseña\"\n",
        "pass_usuario = input(\"Introduzca su contraseña: \")\n",
        "if password == pass_usuario.lower():\n",
        "  print(\"Contraseña correcta.\")\n",
        "else:\n",
        "  print(\"Contraseña incorrecta\")\n",
        "'''Movemos el print hacia atrás para que no forme parte del bloque if.\n",
        "Así sale el aviso Programa Teminado'''\n",
        "print(\"Programa terminado.\")"
      ],
      "metadata": {
        "colab": {
          "base_uri": "https://localhost:8080/"
        },
        "id": "zsC4czRsEElr",
        "outputId": "28eb723e-7941-4a0a-ddd2-1b3e145094c7"
      },
      "execution_count": 9,
      "outputs": [
        {
          "output_type": "stream",
          "name": "stdout",
          "text": [
            "Introduzca su contraseña: CONTRASEÑA\n",
            "Contraseña correcta.\n",
            "Programa terminado.\n"
          ]
        }
      ]
    },
    {
      "cell_type": "code",
      "source": [
        "dividendo = int(input(\"Dividendo: \"))\n",
        "divisor = int(input(\"Divisor: \"))\n",
        "if divisor == 0:\n",
        "  print(\"Indeterminación.\")\n",
        "else:\n",
        "  print(\"División: \", dividendo/divisor)"
      ],
      "metadata": {
        "colab": {
          "base_uri": "https://localhost:8080/"
        },
        "id": "BOiezUHnKA7i",
        "outputId": "aa5875de-1607-44ed-cfc1-437ab4cb8af3"
      },
      "execution_count": 13,
      "outputs": [
        {
          "output_type": "stream",
          "name": "stdout",
          "text": [
            "Dividendo: 0\n",
            "Divisor: 20\n",
            "División:  0.0\n"
          ]
        }
      ]
    },
    {
      "cell_type": "code",
      "source": [
        "numero = int(input(\"Número: \"))\n",
        "if numero % 2 == 0:\n",
        "  print(\"Es un número par.\")\n",
        "else:\n",
        "  print(\"Número impar.\")\n",
        "\n",
        "print(\"Programa terminado.\")"
      ],
      "metadata": {
        "colab": {
          "base_uri": "https://localhost:8080/"
        },
        "id": "5lfl8rCjM-9s",
        "outputId": "25a26ecf-8651-4d8b-85a2-b2b4abd126e2"
      },
      "execution_count": 17,
      "outputs": [
        {
          "output_type": "stream",
          "name": "stdout",
          "text": [
            "Número: 5\n",
            "Número impar.\n",
            "Programa terminado.\n"
          ]
        }
      ]
    },
    {
      "cell_type": "code",
      "source": [
        "edad = int(input(\"Edad: \"))\n",
        "ingresos = float(input(\"Ingresos: \"))\n",
        "\n",
        "if edad > 16:\n",
        "  if ingresos >= 1000:\n",
        "    print(\"A pagar.\")\n",
        "  else:\n",
        "    print(\"No tienes que tributar\")\n",
        "else:\n",
        "  print(\"Por ahora te libras.\")"
      ],
      "metadata": {
        "colab": {
          "base_uri": "https://localhost:8080/"
        },
        "id": "xIZajUz6Po5c",
        "outputId": "026dda20-588a-4039-8ee6-abcd5692b986"
      },
      "execution_count": 25,
      "outputs": [
        {
          "output_type": "stream",
          "name": "stdout",
          "text": [
            "Edad: 18\n",
            "Ingresos: 1000\n",
            "A pagar.\n"
          ]
        }
      ]
    },
    {
      "cell_type": "code",
      "source": [
        "edad = int(input(\"Edad: \"))\n",
        "ingresos = float(input(\"Ingresos: \"))\n",
        "\n",
        "if (edad > 16) and (ingresos >= 1000):\n",
        "  print(\"Pagas.\")\n",
        "else:\n",
        "  print(\"No pagas.\")"
      ],
      "metadata": {
        "colab": {
          "base_uri": "https://localhost:8080/"
        },
        "id": "-EikJqkdSjkH",
        "outputId": "deba912a-e0f0-4633-8e30-ace73636cf76"
      },
      "execution_count": 28,
      "outputs": [
        {
          "output_type": "stream",
          "name": "stdout",
          "text": [
            "Edad: 18\n",
            "Ingresos: 999\n",
            "No pagas.\n"
          ]
        }
      ]
    },
    {
      "cell_type": "code",
      "source": [
        "word = input(\"Introduce una palabra: \")\n",
        "for i in range(10):\n",
        "  print(i, word)\n",
        "  print(\"Otra iteración.\")\n",
        "\n",
        "print(\"Final de programa.\")"
      ],
      "metadata": {
        "colab": {
          "base_uri": "https://localhost:8080/"
        },
        "id": "lDQfRDh-UKVv",
        "outputId": "8df5471f-4a20-4a11-f2a1-b86c6876ec7a"
      },
      "execution_count": 31,
      "outputs": [
        {
          "output_type": "stream",
          "name": "stdout",
          "text": [
            "Introduce una palabra: Hola\n",
            "0 Hola\n",
            "Otra iteración.\n",
            "1 Hola\n",
            "Otra iteración.\n",
            "2 Hola\n",
            "Otra iteración.\n",
            "3 Hola\n",
            "Otra iteración.\n",
            "4 Hola\n",
            "Otra iteración.\n",
            "5 Hola\n",
            "Otra iteración.\n",
            "6 Hola\n",
            "Otra iteración.\n",
            "7 Hola\n",
            "Otra iteración.\n",
            "8 Hola\n",
            "Otra iteración.\n",
            "9 Hola\n",
            "Otra iteración.\n",
            "Final de programa.\n"
          ]
        }
      ]
    },
    {
      "cell_type": "code",
      "source": [
        "edad = int(input(\"Edad: \"))\n",
        "for n in range(1, edad + 1):\n",
        "  print(n)"
      ],
      "metadata": {
        "colab": {
          "base_uri": "https://localhost:8080/"
        },
        "id": "q8CeEWUnVzQy",
        "outputId": "6756671f-6002-4c56-c79d-b760f42e6642"
      },
      "execution_count": 34,
      "outputs": [
        {
          "output_type": "stream",
          "name": "stdout",
          "text": [
            "Edad: 20\n",
            "1\n",
            "2\n",
            "3\n",
            "4\n",
            "5\n",
            "6\n",
            "7\n",
            "8\n",
            "9\n",
            "10\n",
            "11\n",
            "12\n",
            "13\n",
            "14\n",
            "15\n",
            "16\n",
            "17\n",
            "18\n",
            "19\n",
            "20\n"
          ]
        }
      ]
    },
    {
      "cell_type": "code",
      "source": [
        "edad = int(input(\"Edad: \"))\n",
        "for n in range(1, edad + 1, 2):\n",
        "  print(n)"
      ],
      "metadata": {
        "colab": {
          "base_uri": "https://localhost:8080/"
        },
        "id": "9H47ET8hW6tt",
        "outputId": "2e9c3920-0f77-4a69-c2c5-d188c64c8376"
      },
      "execution_count": 35,
      "outputs": [
        {
          "output_type": "stream",
          "name": "stdout",
          "text": [
            "Edad: 50\n",
            "1\n",
            "3\n",
            "5\n",
            "7\n",
            "9\n",
            "11\n",
            "13\n",
            "15\n",
            "17\n",
            "19\n",
            "21\n",
            "23\n",
            "25\n",
            "27\n",
            "29\n",
            "31\n",
            "33\n",
            "35\n",
            "37\n",
            "39\n",
            "41\n",
            "43\n",
            "45\n",
            "47\n",
            "49\n"
          ]
        }
      ]
    },
    {
      "cell_type": "code",
      "source": [
        "numero = int(input(\"Edad: \"))\n",
        "for n in range(1, edad + 1, 2):\n",
        "  print(n, end = \", \" )"
      ],
      "metadata": {
        "colab": {
          "base_uri": "https://localhost:8080/"
        },
        "id": "t3pjUEL3Xcqo",
        "outputId": "e4a32c07-f709-4ee4-c041-9937f83cb741"
      },
      "execution_count": 36,
      "outputs": [
        {
          "output_type": "stream",
          "name": "stdout",
          "text": [
            "Edad: 33\n",
            "1, 3, 5, 7, 9, 11, 13, 15, 17, 19, 21, 23, 25, 27, 29, 31, 33, 35, 37, 39, 41, 43, 45, 47, 49, "
          ]
        }
      ]
    },
    {
      "cell_type": "code",
      "source": [
        "numero = int(input(\"Número: \"))\n",
        "for n in range(numero, -1, -1):\n",
        "  print(n, end = \", \" )"
      ],
      "metadata": {
        "id": "4Dx8Tvplh_UL",
        "outputId": "51689fea-0141-4c17-91bc-8e3719bedbb8",
        "colab": {
          "base_uri": "https://localhost:8080/"
        }
      },
      "execution_count": 37,
      "outputs": [
        {
          "output_type": "stream",
          "name": "stdout",
          "text": [
            "Número: 20\n",
            "20, 19, 18, 17, 16, 15, 14, 13, 12, 11, 10, 9, 8, 7, 6, 5, 4, 3, 2, 1, 0, "
          ]
        }
      ]
    },
    {
      "cell_type": "code",
      "source": [
        "password = \"contraseña\"\n",
        "\n",
        "usuario = input(\"Contraseña: \")\n",
        "\n",
        "while (usuario != password):\n",
        "  print(\"Contraseña incorrecta.\")\n",
        "  usuario = input(\"Inténtelo de nuevo: \")\n",
        "\n",
        "print(\"Contraseña correcta.\")"
      ],
      "metadata": {
        "id": "iNqKqC9diz6p",
        "outputId": "e25de397-7a34-4c13-f5dd-ccf7af1cfced",
        "colab": {
          "base_uri": "https://localhost:8080/"
        }
      },
      "execution_count": 38,
      "outputs": [
        {
          "output_type": "stream",
          "name": "stdout",
          "text": [
            "Contraseña: hola\n",
            "Contraseña incorrecta.\n",
            "Inténtelo de nuevo: ilwhdñ\n",
            "Contraseña incorrecta.\n",
            "Inténtelo de nuevo: contraseña\n",
            "Contraseña correcta.\n"
          ]
        }
      ]
    },
    {
      "cell_type": "code",
      "source": [
        "frase = input(\"Frase: \")\n",
        "letra = input(\"Letra: \")\n",
        "\n",
        "n = frase.count(letra)\n",
        "print(\"La letra \" + letra + \" se repite \" + str(n) + \" veces en la frase.\")"
      ],
      "metadata": {
        "id": "V87UVZsnnAx2",
        "outputId": "13a6d3d3-b386-4f72-cfa5-49311c877422",
        "colab": {
          "base_uri": "https://localhost:8080/"
        }
      },
      "execution_count": 39,
      "outputs": [
        {
          "output_type": "stream",
          "name": "stdout",
          "text": [
            "Frase: Por el río bajan dos tablas tarabintinculadas.\n",
            "Letra: a\n",
            "La letra a se repite 8 veces en la frase.\n"
          ]
        }
      ]
    },
    {
      "cell_type": "code",
      "source": [
        "frase = input(\"Frase: \")\n",
        "letra = input(\"Letra: \")\n",
        "\n",
        "contador = 0\n",
        "\n",
        "for n in frase:\n",
        "  if n == letra:\n",
        "    contador = contador + 1\n",
        "\n",
        "print(\"La letra '\" + letra + \"' se repite \" + str(contador) + \" veces en la frase.\")"
      ],
      "metadata": {
        "id": "YXJoWPlGof3X",
        "outputId": "a7bfef2f-4b2c-443e-dffa-1f8c6e9c3fed",
        "colab": {
          "base_uri": "https://localhost:8080/"
        }
      },
      "execution_count": 43,
      "outputs": [
        {
          "output_type": "stream",
          "name": "stdout",
          "text": [
            "Frase: Que pasa\n",
            "Letra: i\n",
            "La letra 'i' se repite 0 veces en la frase.\n"
          ]
        }
      ]
    },
    {
      "cell_type": "code",
      "source": [
        "def greet():\n",
        "  '''Función que muestra un saludo'''\n",
        "  print(\"¡Hola amiga!\")\n",
        "  return\n",
        "\n",
        "greet()"
      ],
      "metadata": {
        "id": "xHjWwPGfro1D",
        "outputId": "447fb5e5-05e0-4e69-827e-25592b6ca481",
        "colab": {
          "base_uri": "https://localhost:8080/"
        }
      },
      "execution_count": 45,
      "outputs": [
        {
          "output_type": "stream",
          "name": "stdout",
          "text": [
            "¡Hola amiga!\n"
          ]
        }
      ]
    },
    {
      "cell_type": "code",
      "source": [
        "def saludo_2(nombre):\n",
        "  print(\"Hola \" + nombre)\n",
        "\n",
        "nom = input(\"Nombre: \")\n",
        "saludo_2(nom)"
      ],
      "metadata": {
        "id": "E4gQljV6tLRa",
        "outputId": "2b2bf4d3-1c7f-492f-a203-61547cf440de",
        "colab": {
          "base_uri": "https://localhost:8080/"
        }
      },
      "execution_count": 46,
      "outputs": [
        {
          "output_type": "stream",
          "name": "stdout",
          "text": [
            "Nombre: Max\n",
            "Hola Max\n"
          ]
        }
      ]
    },
    {
      "cell_type": "code",
      "source": [
        "def factorial(numero):\n",
        "  resultado = 1\n",
        "  for n in range(numero, 1, -1):\n",
        "    resultado = resultado * n\n",
        "\n",
        "  return resultado\n",
        "\n",
        "numero_2 = int(input(\"Número: \"))\n",
        "print (\"El factorial de '\", numero_2, \"' es: \", factorial(numero_2))"
      ],
      "metadata": {
        "id": "NsratEc2uzrQ",
        "outputId": "74e96f21-a2f9-42c3-c51c-4c078abc943f",
        "colab": {
          "base_uri": "https://localhost:8080/"
        }
      },
      "execution_count": 61,
      "outputs": [
        {
          "output_type": "stream",
          "name": "stdout",
          "text": [
            "Número: 5\n",
            "El factorial de ' 5 ' es:  120\n"
          ]
        }
      ]
    },
    {
      "cell_type": "markdown",
      "source": [
        "for n in range(100): del 0 al 99;\n",
        "for n in range(1, 100): del 1 al 99;\n",
        "for n in range(1, 100, 3): del 1 al 99, mostrando unicamente cada tercer número;"
      ],
      "metadata": {
        "id": "hCE3AZ_9ygZd"
      }
    },
    {
      "cell_type": "code",
      "source": [
        "def factorial(numero):\n",
        "  resultado = 1.0\n",
        "  for n in range(1, numero + 1):\n",
        "    resultado = resultado * n\n",
        "    print(\"Resultado intermedio:\", resultado)\n",
        "\n",
        "  return resultado\n",
        "\n",
        "numero_2 = int(input(\"Número: \"))\n",
        "print (\"El factorial de '\", numero_2, \"' es: \", factorial(numero_2))"
      ],
      "metadata": {
        "id": "FGpob6lzzgCb",
        "outputId": "8f7712fd-2286-4de9-e314-435524fe6f8f",
        "colab": {
          "base_uri": "https://localhost:8080/"
        }
      },
      "execution_count": 65,
      "outputs": [
        {
          "output_type": "stream",
          "name": "stdout",
          "text": [
            "Número: 5\n",
            "Resultado intermedio: 1.0\n",
            "Resultado intermedio: 2.0\n",
            "Resultado intermedio: 6.0\n",
            "Resultado intermedio: 24.0\n",
            "Resultado intermedio: 120.0\n",
            "El factorial de ' 5 ' es:  120.0\n"
          ]
        }
      ]
    },
    {
      "cell_type": "code",
      "source": [
        "def total_factura(importe, iva = 21):\n",
        "  total = importe * (1 + iva / 100)\n",
        "  return total\n",
        "\n",
        "bruto = float(input(\"Importe: \"))\n",
        "iva = int(input(\"IVA: \"))\n",
        "\n",
        "print(total_factura(bruto, iva))"
      ],
      "metadata": {
        "id": "U1G4Rjqd0eBL",
        "outputId": "77818a3c-48d6-4eba-e1bb-46fb748a7a4f",
        "colab": {
          "base_uri": "https://localhost:8080/"
        }
      },
      "execution_count": 71,
      "outputs": [
        {
          "output_type": "stream",
          "name": "stdout",
          "text": [
            "Importe: 1000\n",
            "IVA: 10\n",
            "1100.0\n"
          ]
        }
      ]
    },
    {
      "cell_type": "code",
      "source": [
        "def area_circulo(radio):\n",
        "  return 3.14 * radio ** 2\n",
        "\n",
        "def volumen_cilindro(radio, altura):\n",
        "  return area_circulo(radio) * altura\n",
        "\n",
        "radio = float(input(\"Radio en cm: \"))\n",
        "altura = float(input(\"Altura en cm: \"))\n",
        "\n",
        "print('Area del circulo cm2: ', area_circulo(radio))\n",
        "print(\"Volumen del cilindro cm3: \", volumen_cilindro(radio, altura))"
      ],
      "metadata": {
        "id": "ASXhO9IS4jDG",
        "outputId": "fd17d64f-f83c-489d-c12b-1681159b19bd",
        "colab": {
          "base_uri": "https://localhost:8080/"
        }
      },
      "execution_count": 75,
      "outputs": [
        {
          "output_type": "stream",
          "name": "stdout",
          "text": [
            "Radio en cm: 3\n",
            "Altura en cm: 5\n",
            "Area del circulo cm2:  28.26\n",
            "Volumen del cilindro cm3:  141.3\n"
          ]
        }
      ]
    },
    {
      "cell_type": "code",
      "source": [
        "def media (lista):\n",
        "  n = len(lista)\n",
        "  suma = sum(lista)\n",
        "  return suma / n\n",
        "\n",
        "lista = [1,2,3]\n",
        "print(media(lista))"
      ],
      "metadata": {
        "id": "3ikV66f68s_T",
        "outputId": "06544b01-8f5c-4084-b29c-1150c0604865",
        "colab": {
          "base_uri": "https://localhost:8080/"
        }
      },
      "execution_count": 77,
      "outputs": [
        {
          "output_type": "stream",
          "name": "stdout",
          "text": [
            "2.0\n"
          ]
        }
      ]
    },
    {
      "cell_type": "code",
      "source": [
        "numero = int(input(\"Introduzca un número: \"))\n",
        "lista = list()\n",
        "while (numero != 0):\n",
        "  lista.append(numero)\n",
        "  numero = int(input(\"Introduzca otro número: \"))\n",
        "\n",
        "print(media(lista))"
      ],
      "metadata": {
        "id": "doSDyi84-n7m",
        "outputId": "8e4c5f41-d285-4a55-c316-29b16a6e7207",
        "colab": {
          "base_uri": "https://localhost:8080/"
        }
      },
      "execution_count": 80,
      "outputs": [
        {
          "output_type": "stream",
          "name": "stdout",
          "text": [
            "Introduzca un número: 10\n",
            "Introduzca un número: 2\n",
            "Introduzca un número: 4\n",
            "Introduzca un número: 0\n",
            "5.333333333333333\n"
          ]
        }
      ]
    }
  ],
  "metadata": {
    "kernelspec": {
      "display_name": "Python 3",
      "language": "python",
      "name": "python3"
    },
    "language_info": {
      "codemirror_mode": {
        "name": "ipython",
        "version": 3
      },
      "file_extension": ".py",
      "mimetype": "text/x-python",
      "name": "python",
      "nbconvert_exporter": "python",
      "pygments_lexer": "ipython3",
      "version": "3.7.1"
    },
    "colab": {
      "provenance": [],
      "include_colab_link": true
    }
  },
  "nbformat": 4,
  "nbformat_minor": 0
}